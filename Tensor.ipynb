{
  "nbformat": 4,
  "nbformat_minor": 0,
  "metadata": {
    "colab": {
      "name": "Tensor.ipynb",
      "provenance": [],
      "authorship_tag": "ABX9TyOnQ1lUMGr396lWkUIiDQZT",
      "include_colab_link": true
    },
    "kernelspec": {
      "name": "python3",
      "display_name": "Python 3"
    }
  },
  "cells": [
    {
      "cell_type": "markdown",
      "metadata": {
        "id": "view-in-github",
        "colab_type": "text"
      },
      "source": [
        "<a href=\"https://colab.research.google.com/github/WonJunPark/pytorch_tutorials/blob/master/Tensor.ipynb\" target=\"_parent\"><img src=\"https://colab.research.google.com/assets/colab-badge.svg\" alt=\"Open In Colab\"/></a>"
      ]
    },
    {
      "cell_type": "code",
      "metadata": {
        "id": "W9b8IaXfuTRt",
        "colab_type": "code",
        "colab": {}
      },
      "source": [
        "import torch\n",
        "a = torch.empty(5, 7, dtype=torch.float)"
      ],
      "execution_count": 0,
      "outputs": []
    },
    {
      "cell_type": "code",
      "metadata": {
        "id": "eMU6O-Wkw8Wr",
        "colab_type": "code",
        "colab": {
          "base_uri": "https://localhost:8080/",
          "height": 140
        },
        "outputId": "7d825c0b-e539-48ad-c2b3-43ca644ac3a0"
      },
      "source": [
        "a = torch.randn(5, 7, dtype=torch.double)\n",
        "print(a)\n",
        "print(a.size())"
      ],
      "execution_count": 2,
      "outputs": [
        {
          "output_type": "stream",
          "text": [
            "tensor([[-0.7638,  1.5508,  0.8655, -1.2219,  0.3260,  0.3114, -1.2575],\n",
            "        [-0.8164,  0.9532,  0.6754,  0.3693,  2.3825, -0.4921,  0.8485],\n",
            "        [ 1.7835,  1.5344,  0.3317,  1.0133, -0.3981,  1.0270, -0.9160],\n",
            "        [ 0.3088,  1.1505, -0.4357, -0.1609,  0.2623,  1.6203,  0.6514],\n",
            "        [-0.0187,  0.2434, -1.7305,  1.5200,  0.9916,  1.1819,  0.8972]],\n",
            "       dtype=torch.float64)\n",
            "torch.Size([5, 7])\n"
          ],
          "name": "stdout"
        }
      ]
    },
    {
      "cell_type": "code",
      "metadata": {
        "id": "t44WjgBaxPQu",
        "colab_type": "code",
        "colab": {
          "base_uri": "https://localhost:8080/",
          "height": 230
        },
        "outputId": "f0549f14-662c-488d-ae04-37a698cecca1"
      },
      "source": [
        "a.fill_(3.5)\n",
        "b = a.add(4.0)\n",
        "print(a,b)"
      ],
      "execution_count": 12,
      "outputs": [
        {
          "output_type": "stream",
          "text": [
            "tensor([[3.5000, 3.5000, 3.5000, 3.5000, 3.5000, 3.5000, 3.5000],\n",
            "        [3.5000, 3.5000, 3.5000, 3.5000, 3.5000, 3.5000, 3.5000],\n",
            "        [3.5000, 3.5000, 3.5000, 3.5000, 3.5000, 3.5000, 3.5000],\n",
            "        [3.5000, 3.5000, 3.5000, 3.5000, 3.5000, 3.5000, 3.5000],\n",
            "        [3.5000, 3.5000, 3.5000, 3.5000, 3.5000, 3.5000, 3.5000]],\n",
            "       dtype=torch.float64) tensor([[7.5000, 7.5000, 7.5000, 7.5000, 7.5000, 7.5000, 7.5000],\n",
            "        [7.5000, 7.5000, 7.5000, 7.5000, 7.5000, 7.5000, 7.5000],\n",
            "        [7.5000, 7.5000, 7.5000, 7.5000, 7.5000, 7.5000, 7.5000],\n",
            "        [7.5000, 7.5000, 7.5000, 7.5000, 7.5000, 7.5000, 7.5000],\n",
            "        [7.5000, 7.5000, 7.5000, 7.5000, 7.5000, 7.5000, 7.5000]],\n",
            "       dtype=torch.float64)\n"
          ],
          "name": "stdout"
        }
      ]
    },
    {
      "cell_type": "code",
      "metadata": {
        "id": "MZOATH-0y1Mo",
        "colab_type": "code",
        "colab": {
          "base_uri": "https://localhost:8080/",
          "height": 230
        },
        "outputId": "f52841ec-8913-4597-eb2e-696d185d4bd6"
      },
      "source": [
        "c = a.add_(4.0)\n",
        "print(a,c)"
      ],
      "execution_count": 16,
      "outputs": [
        {
          "output_type": "stream",
          "text": [
            "tensor([[19.5000, 19.5000, 19.5000, 19.5000, 19.5000, 19.5000, 19.5000],\n",
            "        [19.5000, 19.5000, 19.5000, 19.5000, 19.5000, 19.5000, 19.5000],\n",
            "        [19.5000, 19.5000, 19.5000, 19.5000, 19.5000, 19.5000, 19.5000],\n",
            "        [19.5000, 19.5000, 19.5000, 19.5000, 19.5000, 19.5000, 19.5000],\n",
            "        [19.5000, 19.5000, 19.5000, 19.5000, 19.5000, 19.5000, 19.5000]],\n",
            "       dtype=torch.float64) tensor([[19.5000, 19.5000, 19.5000, 19.5000, 19.5000, 19.5000, 19.5000],\n",
            "        [19.5000, 19.5000, 19.5000, 19.5000, 19.5000, 19.5000, 19.5000],\n",
            "        [19.5000, 19.5000, 19.5000, 19.5000, 19.5000, 19.5000, 19.5000],\n",
            "        [19.5000, 19.5000, 19.5000, 19.5000, 19.5000, 19.5000, 19.5000],\n",
            "        [19.5000, 19.5000, 19.5000, 19.5000, 19.5000, 19.5000, 19.5000]],\n",
            "       dtype=torch.float64)\n"
          ],
          "name": "stdout"
        }
      ]
    },
    {
      "cell_type": "code",
      "metadata": {
        "id": "DkKs2zCMy1Ov",
        "colab_type": "code",
        "colab": {
          "base_uri": "https://localhost:8080/",
          "height": 122
        },
        "outputId": "798efdcc-c0e3-4b64-9c5f-db6f3e849ccf"
      },
      "source": [
        "print(b)"
      ],
      "execution_count": 17,
      "outputs": [
        {
          "output_type": "stream",
          "text": [
            "tensor([[7.5000, 7.5000, 7.5000, 7.5000, 7.5000, 7.5000, 7.5000],\n",
            "        [7.5000, 7.5000, 7.5000, 7.5000, 7.5000, 7.5000, 7.5000],\n",
            "        [7.5000, 7.5000, 7.5000, 7.5000, 7.5000, 7.5000, 7.5000],\n",
            "        [7.5000, 7.5000, 7.5000, 7.5000, 7.5000, 7.5000, 7.5000],\n",
            "        [7.5000, 7.5000, 7.5000, 7.5000, 7.5000, 7.5000, 7.5000]],\n",
            "       dtype=torch.float64)\n"
          ],
          "name": "stdout"
        }
      ]
    },
    {
      "cell_type": "code",
      "metadata": {
        "id": "ETQV1gZjy1Qm",
        "colab_type": "code",
        "colab": {}
      },
      "source": [
        ""
      ],
      "execution_count": 0,
      "outputs": []
    },
    {
      "cell_type": "code",
      "metadata": {
        "id": "MAPbwbHqzlP2",
        "colab_type": "code",
        "colab": {
          "base_uri": "https://localhost:8080/",
          "height": 423
        },
        "outputId": "9be7d463-bb29-4f37-c0ca-8a58f39a61d1"
      },
      "source": [
        "a.fill_(3.5)\n",
        "b = a.add(4.0)\n",
        "print(a,b)\n",
        "b = a.add(4.0)\n",
        "print(a,b)"
      ],
      "execution_count": 19,
      "outputs": [
        {
          "output_type": "stream",
          "text": [
            "tensor([[3.5000, 3.5000, 3.5000, 3.5000, 3.5000, 3.5000, 3.5000],\n",
            "        [3.5000, 3.5000, 3.5000, 3.5000, 3.5000, 3.5000, 3.5000],\n",
            "        [3.5000, 3.5000, 3.5000, 3.5000, 3.5000, 3.5000, 3.5000],\n",
            "        [3.5000, 3.5000, 3.5000, 3.5000, 3.5000, 3.5000, 3.5000],\n",
            "        [3.5000, 3.5000, 3.5000, 3.5000, 3.5000, 3.5000, 3.5000]],\n",
            "       dtype=torch.float64) tensor([[7.5000, 7.5000, 7.5000, 7.5000, 7.5000, 7.5000, 7.5000],\n",
            "        [7.5000, 7.5000, 7.5000, 7.5000, 7.5000, 7.5000, 7.5000],\n",
            "        [7.5000, 7.5000, 7.5000, 7.5000, 7.5000, 7.5000, 7.5000],\n",
            "        [7.5000, 7.5000, 7.5000, 7.5000, 7.5000, 7.5000, 7.5000],\n",
            "        [7.5000, 7.5000, 7.5000, 7.5000, 7.5000, 7.5000, 7.5000]],\n",
            "       dtype=torch.float64)\n",
            "tensor([[3.5000, 3.5000, 3.5000, 3.5000, 3.5000, 3.5000, 3.5000],\n",
            "        [3.5000, 3.5000, 3.5000, 3.5000, 3.5000, 3.5000, 3.5000],\n",
            "        [3.5000, 3.5000, 3.5000, 3.5000, 3.5000, 3.5000, 3.5000],\n",
            "        [3.5000, 3.5000, 3.5000, 3.5000, 3.5000, 3.5000, 3.5000],\n",
            "        [3.5000, 3.5000, 3.5000, 3.5000, 3.5000, 3.5000, 3.5000]],\n",
            "       dtype=torch.float64) tensor([[7.5000, 7.5000, 7.5000, 7.5000, 7.5000, 7.5000, 7.5000],\n",
            "        [7.5000, 7.5000, 7.5000, 7.5000, 7.5000, 7.5000, 7.5000],\n",
            "        [7.5000, 7.5000, 7.5000, 7.5000, 7.5000, 7.5000, 7.5000],\n",
            "        [7.5000, 7.5000, 7.5000, 7.5000, 7.5000, 7.5000, 7.5000],\n",
            "        [7.5000, 7.5000, 7.5000, 7.5000, 7.5000, 7.5000, 7.5000]],\n",
            "       dtype=torch.float64)\n"
          ],
          "name": "stdout"
        }
      ]
    },
    {
      "cell_type": "code",
      "metadata": {
        "id": "70pvOddQzpMw",
        "colab_type": "code",
        "colab": {
          "base_uri": "https://localhost:8080/",
          "height": 423
        },
        "outputId": "c4fc51b1-b28b-49fb-c9f6-b1cbdfdd8092"
      },
      "source": [
        "a.fill_(3.5)\n",
        "c = a.add_(4.0)\n",
        "print(a,c)\n",
        "c = a.add_(4.0)\n",
        "print(a,c)"
      ],
      "execution_count": 21,
      "outputs": [
        {
          "output_type": "stream",
          "text": [
            "tensor([[7.5000, 7.5000, 7.5000, 7.5000, 7.5000, 7.5000, 7.5000],\n",
            "        [7.5000, 7.5000, 7.5000, 7.5000, 7.5000, 7.5000, 7.5000],\n",
            "        [7.5000, 7.5000, 7.5000, 7.5000, 7.5000, 7.5000, 7.5000],\n",
            "        [7.5000, 7.5000, 7.5000, 7.5000, 7.5000, 7.5000, 7.5000],\n",
            "        [7.5000, 7.5000, 7.5000, 7.5000, 7.5000, 7.5000, 7.5000]],\n",
            "       dtype=torch.float64) tensor([[7.5000, 7.5000, 7.5000, 7.5000, 7.5000, 7.5000, 7.5000],\n",
            "        [7.5000, 7.5000, 7.5000, 7.5000, 7.5000, 7.5000, 7.5000],\n",
            "        [7.5000, 7.5000, 7.5000, 7.5000, 7.5000, 7.5000, 7.5000],\n",
            "        [7.5000, 7.5000, 7.5000, 7.5000, 7.5000, 7.5000, 7.5000],\n",
            "        [7.5000, 7.5000, 7.5000, 7.5000, 7.5000, 7.5000, 7.5000]],\n",
            "       dtype=torch.float64)\n",
            "tensor([[11.5000, 11.5000, 11.5000, 11.5000, 11.5000, 11.5000, 11.5000],\n",
            "        [11.5000, 11.5000, 11.5000, 11.5000, 11.5000, 11.5000, 11.5000],\n",
            "        [11.5000, 11.5000, 11.5000, 11.5000, 11.5000, 11.5000, 11.5000],\n",
            "        [11.5000, 11.5000, 11.5000, 11.5000, 11.5000, 11.5000, 11.5000],\n",
            "        [11.5000, 11.5000, 11.5000, 11.5000, 11.5000, 11.5000, 11.5000]],\n",
            "       dtype=torch.float64) tensor([[11.5000, 11.5000, 11.5000, 11.5000, 11.5000, 11.5000, 11.5000],\n",
            "        [11.5000, 11.5000, 11.5000, 11.5000, 11.5000, 11.5000, 11.5000],\n",
            "        [11.5000, 11.5000, 11.5000, 11.5000, 11.5000, 11.5000, 11.5000],\n",
            "        [11.5000, 11.5000, 11.5000, 11.5000, 11.5000, 11.5000, 11.5000],\n",
            "        [11.5000, 11.5000, 11.5000, 11.5000, 11.5000, 11.5000, 11.5000]],\n",
            "       dtype=torch.float64)\n"
          ],
          "name": "stdout"
        }
      ]
    },
    {
      "cell_type": "code",
      "metadata": {
        "id": "Twxor2VhzxSR",
        "colab_type": "code",
        "colab": {}
      },
      "source": [
        ""
      ],
      "execution_count": 0,
      "outputs": []
    },
    {
      "cell_type": "code",
      "metadata": {
        "id": "CnHbZROd0lzE",
        "colab_type": "code",
        "colab": {
          "base_uri": "https://localhost:8080/",
          "height": 122
        },
        "outputId": "593441a3-8763-4a10-82a3-6bcf910e35f0"
      },
      "source": [
        "b = a[0, 3]  # select 1st row, 4th column from a\n",
        "print(b)\n",
        "b = a[:, 3:5]  # selects all rows, 4th column and  5th column from a\n",
        "print(b)"
      ],
      "execution_count": 25,
      "outputs": [
        {
          "output_type": "stream",
          "text": [
            "tensor(11.5000, dtype=torch.float64)\n",
            "tensor([[11.5000, 11.5000],\n",
            "        [11.5000, 11.5000],\n",
            "        [11.5000, 11.5000],\n",
            "        [11.5000, 11.5000],\n",
            "        [11.5000, 11.5000]], dtype=torch.float64)\n"
          ],
          "name": "stdout"
        }
      ]
    },
    {
      "cell_type": "code",
      "metadata": {
        "id": "TK5EFDLK0x8e",
        "colab_type": "code",
        "colab": {}
      },
      "source": [
        ""
      ],
      "execution_count": 0,
      "outputs": []
    },
    {
      "cell_type": "code",
      "metadata": {
        "id": "8ccw0UlX15bL",
        "colab_type": "code",
        "colab": {
          "base_uri": "https://localhost:8080/",
          "height": 280
        },
        "outputId": "cb6e599e-013d-42b1-caf7-a4607792ac98"
      },
      "source": [
        "x = torch.ones(5, 5)\n",
        "print(x)\n",
        "\n",
        "z = torch.empty(5, 2)\n",
        "z[:, 0] = 10\n",
        "z[:, 1] = 100\n",
        "print(z)\n",
        "\n",
        "x.index_add_(1, torch.tensor([4, 0], dtype=torch.long), z)\n",
        "print(x)"
      ],
      "execution_count": 36,
      "outputs": [
        {
          "output_type": "stream",
          "text": [
            "tensor([[1., 1., 1., 1., 1.],\n",
            "        [1., 1., 1., 1., 1.],\n",
            "        [1., 1., 1., 1., 1.],\n",
            "        [1., 1., 1., 1., 1.],\n",
            "        [1., 1., 1., 1., 1.]])\n",
            "tensor([[ 10., 100.],\n",
            "        [ 10., 100.],\n",
            "        [ 10., 100.],\n",
            "        [ 10., 100.],\n",
            "        [ 10., 100.]])\n",
            "tensor([[101.,   1.,   1.,   1.,  11.],\n",
            "        [101.,   1.,   1.,   1.,  11.],\n",
            "        [101.,   1.,   1.,   1.,  11.],\n",
            "        [101.,   1.,   1.,   1.,  11.],\n",
            "        [101.,   1.,   1.,   1.,  11.]])\n"
          ],
          "name": "stdout"
        }
      ]
    },
    {
      "cell_type": "code",
      "metadata": {
        "id": "IKqaGrMY15fl",
        "colab_type": "code",
        "colab": {}
      },
      "source": [
        ""
      ],
      "execution_count": 0,
      "outputs": []
    },
    {
      "cell_type": "code",
      "metadata": {
        "id": "klvEhDql3FoM",
        "colab_type": "code",
        "colab": {
          "base_uri": "https://localhost:8080/",
          "height": 34
        },
        "outputId": "3844e1eb-ddf2-4c16-e559-027476a189fe"
      },
      "source": [
        "a = torch.ones(5)\n",
        "print(a)"
      ],
      "execution_count": 37,
      "outputs": [
        {
          "output_type": "stream",
          "text": [
            "tensor([1., 1., 1., 1., 1.])\n"
          ],
          "name": "stdout"
        }
      ]
    },
    {
      "cell_type": "code",
      "metadata": {
        "id": "W7lcHEJS3Kn6",
        "colab_type": "code",
        "colab": {
          "base_uri": "https://localhost:8080/",
          "height": 34
        },
        "outputId": "05bd3e08-024e-4da9-c62e-db0643776a8c"
      },
      "source": [
        "b = a.numpy()\n",
        "print(b)"
      ],
      "execution_count": 39,
      "outputs": [
        {
          "output_type": "stream",
          "text": [
            "[2. 2. 2. 2. 2.]\n"
          ],
          "name": "stdout"
        }
      ]
    },
    {
      "cell_type": "code",
      "metadata": {
        "id": "dQXA4Ni73Fq8",
        "colab_type": "code",
        "colab": {
          "base_uri": "https://localhost:8080/",
          "height": 52
        },
        "outputId": "69d0c4a2-0152-42c1-9203-12d59c7061f8"
      },
      "source": [
        "a.add_(1)\n",
        "print(a)\n",
        "print(b)    # see how the numpy array changed in value"
      ],
      "execution_count": 40,
      "outputs": [
        {
          "output_type": "stream",
          "text": [
            "tensor([3., 3., 3., 3., 3.])\n",
            "[3. 3. 3. 3. 3.]\n"
          ],
          "name": "stdout"
        }
      ]
    },
    {
      "cell_type": "code",
      "metadata": {
        "id": "klPheOei3FtT",
        "colab_type": "code",
        "colab": {}
      },
      "source": [
        ""
      ],
      "execution_count": 0,
      "outputs": []
    },
    {
      "cell_type": "code",
      "metadata": {
        "id": "UGqwREiy3a3k",
        "colab_type": "code",
        "colab": {
          "base_uri": "https://localhost:8080/",
          "height": 52
        },
        "outputId": "25d9f7f2-d57a-40cc-bde2-9201e9bf0971"
      },
      "source": [
        "import numpy as np\n",
        "a = np.ones(5)\n",
        "b = torch.from_numpy(a)\n",
        "np.add(a, 1, out=a)\n",
        "print(a)\n",
        "print(b)  # see how changing the np array changed the torch Tensor automatically"
      ],
      "execution_count": 41,
      "outputs": [
        {
          "output_type": "stream",
          "text": [
            "[2. 2. 2. 2. 2.]\n",
            "tensor([2., 2., 2., 2., 2.], dtype=torch.float64)\n"
          ],
          "name": "stdout"
        }
      ]
    },
    {
      "cell_type": "code",
      "metadata": {
        "id": "06CBV90M3a6E",
        "colab_type": "code",
        "colab": {}
      },
      "source": [
        ""
      ],
      "execution_count": 0,
      "outputs": []
    },
    {
      "cell_type": "code",
      "metadata": {
        "id": "fCJ4k1nL3a8O",
        "colab_type": "code",
        "colab": {}
      },
      "source": [
        "# 이 코드는 CUDA가 사용 가능한 환경에서만 실행됩니다.\n",
        "if torch.cuda.is_available():\n",
        "\n",
        "    # LongTensor를 생성하고 이를 torch.cuda.LongTensor로 GPU로 옮깁니다.\n",
        "    a = torch.full((10,), 3, device=torch.device(\"cuda\"))\n",
        "    print(type(a))\n",
        "    b = a.to(torch.device(\"cpu\"))\n",
        "    # CPU로 다시 전송을 하면, torch.LongTensor로 되돌아옵니다."
      ],
      "execution_count": 0,
      "outputs": []
    },
    {
      "cell_type": "code",
      "metadata": {
        "id": "kab2T-LT3vSu",
        "colab_type": "code",
        "colab": {}
      },
      "source": [
        ""
      ],
      "execution_count": 0,
      "outputs": []
    },
    {
      "cell_type": "code",
      "metadata": {
        "id": "WIG3dI0I3vVI",
        "colab_type": "code",
        "colab": {
          "base_uri": "https://localhost:8080/",
          "height": 52
        },
        "outputId": "bd5b95a1-8b1e-425b-c61e-fab978e439b0"
      },
      "source": [
        "import torch\n",
        "\n",
        "x = torch.ones(2, 2, requires_grad=True)\n",
        "print(x)"
      ],
      "execution_count": 43,
      "outputs": [
        {
          "output_type": "stream",
          "text": [
            "tensor([[1., 1.],\n",
            "        [1., 1.]], requires_grad=True)\n"
          ],
          "name": "stdout"
        }
      ]
    },
    {
      "cell_type": "code",
      "metadata": {
        "id": "QpnAS1c73vXM",
        "colab_type": "code",
        "colab": {
          "base_uri": "https://localhost:8080/",
          "height": 87
        },
        "outputId": "22b6ba6a-7e86-423b-8e18-65d42cc1c632"
      },
      "source": [
        "print(x.data)\n",
        "print(x.grad)\n",
        "print(x.grad_fn)  # we've created x ourselves"
      ],
      "execution_count": 49,
      "outputs": [
        {
          "output_type": "stream",
          "text": [
            "tensor([[1., 1.],\n",
            "        [1., 1.]])\n",
            "None\n",
            "None\n"
          ],
          "name": "stdout"
        }
      ]
    },
    {
      "cell_type": "code",
      "metadata": {
        "id": "J1axrEI_dlo6",
        "colab_type": "code",
        "colab": {
          "base_uri": "https://localhost:8080/",
          "height": 70
        },
        "outputId": "c2fd400b-aad7-4be9-f0ab-86e21700ef0b"
      },
      "source": [
        "y = x + 2\n",
        "print(y)\n",
        "print(y.grad_fn)"
      ],
      "execution_count": 51,
      "outputs": [
        {
          "output_type": "stream",
          "text": [
            "tensor([[3., 3.],\n",
            "        [3., 3.]], grad_fn=<AddBackward0>)\n",
            "<AddBackward0 object at 0x7f4f174939e8>\n"
          ],
          "name": "stdout"
        }
      ]
    },
    {
      "cell_type": "code",
      "metadata": {
        "id": "uMrNyn0ZeOLU",
        "colab_type": "code",
        "colab": {
          "base_uri": "https://localhost:8080/",
          "height": 70
        },
        "outputId": "dc28602d-8a1e-433d-a321-394e0b700cb2"
      },
      "source": [
        "z = y * y * 3\n",
        "out = z.mean()\n",
        "\n",
        "print(z)\n",
        "print(out)"
      ],
      "execution_count": 53,
      "outputs": [
        {
          "output_type": "stream",
          "text": [
            "tensor([[27., 27.],\n",
            "        [27., 27.]], grad_fn=<MulBackward0>)\n",
            "tensor(27., grad_fn=<MeanBackward0>)\n"
          ],
          "name": "stdout"
        }
      ]
    },
    {
      "cell_type": "code",
      "metadata": {
        "id": "CpNBHhv5es3M",
        "colab_type": "code",
        "colab": {
          "base_uri": "https://localhost:8080/",
          "height": 70
        },
        "outputId": "e69dca64-a9d1-44cb-a899-a4a85ac44ac7"
      },
      "source": [
        "a = torch.randn(2, 2)\n",
        "a = ((a * 3) / (a - 1))\n",
        "print(a.requires_grad)\n",
        "a.requires_grad_(True)\n",
        "print(a.requires_grad)\n",
        "b = (a * a).sum()\n",
        "print(b.grad_fn)"
      ],
      "execution_count": 54,
      "outputs": [
        {
          "output_type": "stream",
          "text": [
            "False\n",
            "True\n",
            "<SumBackward0 object at 0x7f4f17454208>\n"
          ],
          "name": "stdout"
        }
      ]
    },
    {
      "cell_type": "code",
      "metadata": {
        "id": "p3o0t8_cjaSv",
        "colab_type": "code",
        "colab": {
          "base_uri": "https://localhost:8080/",
          "height": 52
        },
        "outputId": "15a99816-24f9-401a-82e4-052528c58f0a"
      },
      "source": [
        "out.backward()\n",
        "print(x.grad)"
      ],
      "execution_count": 56,
      "outputs": [
        {
          "output_type": "stream",
          "text": [
            "tensor([[4.5000, 4.5000],\n",
            "        [4.5000, 4.5000]])\n"
          ],
          "name": "stdout"
        }
      ]
    },
    {
      "cell_type": "code",
      "metadata": {
        "id": "Aql8VaW0jaVI",
        "colab_type": "code",
        "colab": {}
      },
      "source": [
        ""
      ],
      "execution_count": 0,
      "outputs": []
    },
    {
      "cell_type": "code",
      "metadata": {
        "id": "YfqN6_JjjaXR",
        "colab_type": "code",
        "colab": {
          "base_uri": "https://localhost:8080/",
          "height": 140
        },
        "outputId": "ad17e354-9d3c-44db-f878-b2db1cf36659"
      },
      "source": [
        "x = torch.ones(2, 2, requires_grad=True)\n",
        "y = x + 2\n",
        "y.backward(torch.ones(2, 2), retain_graph=True)\n",
        "# retain_variables flag는 내부 버퍼가 사라지는 것을 막아줍니다.\n",
        "print(x.grad)\n",
        "print(x)\n",
        "print(y.grad)\n",
        "print(y)"
      ],
      "execution_count": 63,
      "outputs": [
        {
          "output_type": "stream",
          "text": [
            "tensor([[1., 1.],\n",
            "        [1., 1.]])\n",
            "tensor([[1., 1.],\n",
            "        [1., 1.]], requires_grad=True)\n",
            "None\n",
            "tensor([[3., 3.],\n",
            "        [3., 3.]], grad_fn=<AddBackward0>)\n"
          ],
          "name": "stdout"
        }
      ]
    },
    {
      "cell_type": "code",
      "metadata": {
        "id": "yL2x923ehQr8",
        "colab_type": "code",
        "colab": {
          "base_uri": "https://localhost:8080/",
          "height": 52
        },
        "outputId": "667780b1-ed44-45d9-e837-237a4e339eca"
      },
      "source": [
        "z = y * y\n",
        "print(z)"
      ],
      "execution_count": 58,
      "outputs": [
        {
          "output_type": "stream",
          "text": [
            "tensor([[9., 9.],\n",
            "        [9., 9.]], grad_fn=<MulBackward0>)\n"
          ],
          "name": "stdout"
        }
      ]
    },
    {
      "cell_type": "code",
      "metadata": {
        "id": "KbbAMJxkjwUc",
        "colab_type": "code",
        "colab": {
          "base_uri": "https://localhost:8080/",
          "height": 52
        },
        "outputId": "460a2388-c8bd-4583-ee4e-bd40af57c7c5"
      },
      "source": [
        "gradient = torch.randn(2, 2)\n",
        "\n",
        "# retain_variable 을 지정하지 않았다면 오류가 발생할 것입니다.\n",
        "y.backward(gradient)\n",
        "\n",
        "print(x.grad)"
      ],
      "execution_count": 62,
      "outputs": [
        {
          "output_type": "stream",
          "text": [
            "tensor([[2.9061, 0.6146],\n",
            "        [1.9736, 0.1688]])\n"
          ],
          "name": "stdout"
        }
      ]
    },
    {
      "cell_type": "code",
      "metadata": {
        "id": "xLX0xo61kEXE",
        "colab_type": "code",
        "colab": {}
      },
      "source": [
        ""
      ],
      "execution_count": 0,
      "outputs": []
    },
    {
      "cell_type": "code",
      "metadata": {
        "id": "87SB3hljkErR",
        "colab_type": "code",
        "colab": {
          "base_uri": "https://localhost:8080/",
          "height": 70
        },
        "outputId": "d8529b9f-af36-44a4-9786-5dbc5920aa1a"
      },
      "source": [
        "print(x.requires_grad)\n",
        "print((x ** 2).requires_grad)\n",
        "\n",
        "with torch.no_grad():\n",
        "    print((x ** 2).requires_grad)"
      ],
      "execution_count": 64,
      "outputs": [
        {
          "output_type": "stream",
          "text": [
            "True\n",
            "True\n",
            "False\n"
          ],
          "name": "stdout"
        }
      ]
    },
    {
      "cell_type": "code",
      "metadata": {
        "id": "WDE3mL-WkEt8",
        "colab_type": "code",
        "colab": {}
      },
      "source": [
        ""
      ],
      "execution_count": 0,
      "outputs": []
    }
  ]
}