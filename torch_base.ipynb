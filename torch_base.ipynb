{
  "nbformat": 4,
  "nbformat_minor": 0,
  "metadata": {
    "colab": {
      "name": "Colaboratory에 오신 것을 환영합니다",
      "provenance": [],
      "collapsed_sections": [],
      "toc_visible": true,
      "include_colab_link": true
    },
    "kernelspec": {
      "display_name": "Python 3",
      "name": "python3"
    },
    "accelerator": "GPU"
  },
  "cells": [
    {
      "cell_type": "markdown",
      "metadata": {
        "id": "view-in-github",
        "colab_type": "text"
      },
      "source": [
        "<a href=\"https://colab.research.google.com/github/WonJunPark/pytorch_tutorials/blob/master/torch_base.ipynb\" target=\"_parent\"><img src=\"https://colab.research.google.com/assets/colab-badge.svg\" alt=\"Open In Colab\"/></a>"
      ]
    },
    {
      "cell_type": "markdown",
      "metadata": {
        "id": "iUjo5uhUlB1Y"
      },
      "source": [
        "## numpy"
      ]
    },
    {
      "cell_type": "code",
      "metadata": {
        "id": "r3pFqjufgk4l",
        "outputId": "eca0612e-d567-432d-c875-01d060c2233e",
        "colab": {
          "base_uri": "https://localhost:8080/"
        }
      },
      "source": [
        "# -*- coding: utf-8 -*-\n",
        "import numpy as np\n",
        "\n",
        "# N은 배치 크기이며, D_in은 입력의 차원입니다;\n",
        "# H는 은닉층의 차원이며, D_out은 출력 차원입니다.\n",
        "N, D_in, H, D_out = 64, 1000, 100, 10\n",
        "\n",
        "# 무작위의 입력과 출력 데이터를 생성합니다.\n",
        "x = np.random.randn(N, D_in)\n",
        "y = np.random.randn(N, D_out)\n",
        "\n",
        "print(x.shape)\n",
        "print(y.shape)"
      ],
      "execution_count": 10,
      "outputs": [
        {
          "output_type": "stream",
          "text": [
            "(64, 1000)\n",
            "(64, 10)\n"
          ],
          "name": "stdout"
        }
      ]
    },
    {
      "cell_type": "code",
      "metadata": {
        "id": "9sA6DEZugk6z",
        "outputId": "2edce826-32e2-4bb2-af1a-0ad6bced6bcb",
        "colab": {
          "base_uri": "https://localhost:8080/"
        }
      },
      "source": [
        "# 무작위로 가중치를 초기화합니다.\n",
        "w1 = np.random.randn(D_in, H)\n",
        "w2 = np.random.randn(H, D_out)\n",
        "\n",
        "print(w1.shape)\n",
        "print(w2.shape)"
      ],
      "execution_count": 12,
      "outputs": [
        {
          "output_type": "stream",
          "text": [
            "(1000, 100)\n",
            "(100, 10)\n"
          ],
          "name": "stdout"
        }
      ]
    },
    {
      "cell_type": "code",
      "metadata": {
        "id": "t-4X8g5Sgk9a"
      },
      "source": [
        "learning_rate = 1e-6"
      ],
      "execution_count": 13,
      "outputs": []
    },
    {
      "cell_type": "code",
      "metadata": {
        "id": "fAEcnpVngk_z"
      },
      "source": [
        "for t in range(500):\n",
        "    # 순전파 단계: 예측값 y를 계산합니다.\n",
        "    h = x.dot(w1)\n",
        "    h_relu = np.maximum(h, 0)\n",
        "    y_pred = h_relu.dot(w2)\n",
        "\n",
        "    # 손실(loss)을 계산하고 출력합니다.\n",
        "    loss = np.square(y_pred - y).sum()\n",
        "    print(t, loss)\n",
        "\n",
        "    # 손실에 따른 w1, w2의 변화도를 계산하고 역전파합니다.\n",
        "    grad_y_pred = 2.0 * (y_pred - y)\n",
        "    grad_w2 = h_relu.T.dot(grad_y_pred)\n",
        "    grad_h_relu = grad_y_pred.dot(w2.T)\n",
        "    grad_h = grad_h_relu.copy()\n",
        "    grad_h[h < 0] = 0\n",
        "    grad_w1 = x.T.dot(grad_h)\n",
        "\n",
        "    # 가중치를 갱신합니다.\n",
        "    w1 -= learning_rate * grad_w1\n",
        "    w2 -= learning_rate * grad_w2"
      ],
      "execution_count": null,
      "outputs": []
    },
    {
      "cell_type": "markdown",
      "metadata": {
        "id": "rCiZLymklAGW"
      },
      "source": [
        "## tensor"
      ]
    },
    {
      "cell_type": "code",
      "metadata": {
        "id": "uwCuQIv3glHW",
        "outputId": "eab0ceef-88e0-4cea-da19-f6db4db9f0ec",
        "colab": {
          "base_uri": "https://localhost:8080/"
        }
      },
      "source": [
        "# -*- coding: utf-8 -*-\n",
        "\n",
        "import torch\n",
        "\n",
        "\n",
        "dtype = torch.float\n",
        "device = torch.device(\"cuda:0\")\n",
        "# device = torch.device(\"cuda:0\") # GPU에서 실행하려면 이 주석을 제거하세요.\n",
        "\n",
        "# N은 배치 크기이며, D_in은 입력의 차원입니다;\n",
        "# H는 은닉층의 차원이며, D_out은 출력 차원입니다.\n",
        "N, D_in, H, D_out = 64, 1000, 100, 10\n",
        "\n",
        "# 무작위의 입력과 출력 데이터를 생성합니다.\n",
        "x = torch.randn(N, D_in, device=device, dtype=dtype)\n",
        "y = torch.randn(N, D_out, device=device, dtype=dtype)\n",
        "\n",
        "# 무작위로 가중치를 초기화합니다.\n",
        "w1 = torch.randn(D_in, H, device=device, dtype=dtype)\n",
        "w2 = torch.randn(H, D_out, device=device, dtype=dtype)\n",
        "\n",
        "learning_rate = 1e-6\n",
        "for t in range(500):\n",
        "    # 순전파 단계: 예측값 y를 계산합니다.\n",
        "    h = x.mm(w1) #행렬곱\n",
        "    h_relu = h.clamp(min=0) #값을 특정범위로 묶는다.\n",
        "    y_pred = h_relu.mm(w2)\n",
        "\n",
        "    # 손실(loss)을 계산하고 출력합니다.\n",
        "    loss = (y_pred - y).pow(2).sum().item() #pow는 거듭제곱\n",
        "    if t % 100 == 99:\n",
        "        print(t, loss)\n",
        "\n",
        "    # 손실에 따른 w1, w2의 변화도를 계산하고 역전파합니다.\n",
        "    grad_y_pred = 2.0 * (y_pred - y)\n",
        "    grad_w2 = h_relu.t().mm(grad_y_pred)\n",
        "    grad_h_relu = grad_y_pred.mm(w2.t())\n",
        "    grad_h = grad_h_relu.clone()\n",
        "    grad_h[h < 0] = 0\n",
        "    grad_w1 = x.t().mm(grad_h)\n",
        "\n",
        "    # 경사하강법(gradient descent)를 사용하여 가중치를 갱신합니다.\n",
        "    w1 -= learning_rate * grad_w1\n",
        "    w2 -= learning_rate * grad_w2"
      ],
      "execution_count": 16,
      "outputs": [
        {
          "output_type": "stream",
          "text": [
            "99 913.585205078125\n",
            "199 8.107762336730957\n",
            "299 0.10816513001918793\n",
            "399 0.002032698830589652\n",
            "499 0.0001547471183585003\n"
          ],
          "name": "stdout"
        }
      ]
    },
    {
      "cell_type": "markdown",
      "metadata": {
        "id": "AY6n612rl_WE"
      },
      "source": [
        "## Autograd"
      ]
    },
    {
      "cell_type": "code",
      "metadata": {
        "id": "_IjVE1cMglMn",
        "outputId": "a7377106-15df-4faa-d18b-b7881d3ff02d",
        "colab": {
          "base_uri": "https://localhost:8080/"
        }
      },
      "source": [
        "# -*- coding: utf-8 -*-\n",
        "import torch\n",
        "\n",
        "dtype = torch.float\n",
        "device = torch.device(\"cuda:0\")\n",
        "# device = torch.device(\"cuda:0\") # GPU에서 실행하려면 이 주석을 제거하세요.\n",
        "\n",
        "# N은 배치 크기이며, D_in은 입력의 차원입니다;\n",
        "# H는 은닉층의 차원이며, D_out은 출력 차원입니다.\n",
        "N, D_in, H, D_out = 64, 1000, 100, 10\n",
        "\n",
        "# 입력과 출력을 저장하기 위해 무작위 값을 갖는 Tensor를 생성합니다.\n",
        "# requires_grad=False로 설정하여 역전파 중에 이 Tensor들에 대한 변화도를 계산할\n",
        "# 필요가 없음을 나타냅니다. (requres_grad의 기본값이 False이므로 아래 코드에는\n",
        "# 이를 반영하지 않았습니다.)\n",
        "x = torch.randn(N, D_in, device=device, dtype=dtype)\n",
        "y = torch.randn(N, D_out, device=device, dtype=dtype)\n",
        "\n",
        "# 가중치를 저장하기 위해 무작위 값을 갖는 Tensor를 생성합니다.\n",
        "# requires_grad=True로 설정하여 역전파 중에 이 Tensor들에 대한\n",
        "# 변화도를 계산할 필요가 있음을 나타냅니다.\n",
        "w1 = torch.randn(D_in, H, device=device, dtype=dtype, requires_grad=True)\n",
        "w2 = torch.randn(H, D_out, device=device, dtype=dtype, requires_grad=True)\n",
        "\n",
        "learning_rate = 1e-6\n",
        "for t in range(500):\n",
        "    # 순전파 단계: Tensor 연산을 사용하여 예상되는 y 값을 계산합니다. 이는 Tensor를\n",
        "    # 사용한 순전파 단계와 완전히 동일하지만, 역전파 단계를 별도로 구현하지 않아도\n",
        "    # 되므로 중간값들에 대한 참조(reference)를 갖고 있을 필요가 없습니다.\n",
        "    y_pred = x.mm(w1).clamp(min=0).mm(w2)\n",
        "\n",
        "    # Tensor 연산을 사용하여 손실을 계산하고 출력합니다.\n",
        "    # loss는 (1,) 형태의 Tensor이며, loss.item()은 loss의 스칼라 값입니다.\n",
        "    loss = (y_pred - y).pow(2).sum()\n",
        "    if t % 100 == 99:\n",
        "        print(t, loss.item())\n",
        "\n",
        "    # autograd를 사용하여 역전파 단계를 계산합니다. 이는 requires_grad=True를\n",
        "    # 갖는 모든 Tensor에 대해 손실의 변화도를 계산합니다. 이후 w1.grad와 w2.grad는\n",
        "    # w1과 w2 각각에 대한 손실의 변화도를 갖는 Tensor가 됩니다.\n",
        "    loss.backward()\n",
        "\n",
        "    # 경사하강법(gradient descent)을 사용하여 가중치를 수동으로 갱신합니다.\n",
        "    # torch.no_grad()로 감싸는 이유는 가중치들이 requires_grad=True이지만\n",
        "    # autograd에서는 이를 추적할 필요가 없기 때문입니다.\n",
        "    # 다른 방법은 weight.data 및 weight.grad.data를 조작하는 방법입니다.\n",
        "    # tensor.data가 tensor의 저장공간을 공유하기는 하지만, 이력을\n",
        "    # 추적하지 않는다는 것을 기억하십시오.\n",
        "    # 또한, 이를 위해 torch.optim.SGD 를 사용할 수도 있습니다.\n",
        "    with torch.no_grad():\n",
        "        w1 -= learning_rate * w1.grad\n",
        "        w2 -= learning_rate * w2.grad\n",
        "\n",
        "        # 가중치 갱신 후에는 수동으로 변화도를 0으로 만듭니다.\n",
        "        w1.grad.zero_()\n",
        "        w2.grad.zero_()"
      ],
      "execution_count": 17,
      "outputs": [
        {
          "output_type": "stream",
          "text": [
            "99 331.533447265625\n",
            "199 0.7036807537078857\n",
            "299 0.0032205586321651936\n",
            "399 0.00012286921264603734\n",
            "499 3.0306706321425736e-05\n"
          ],
          "name": "stdout"
        }
      ]
    },
    {
      "cell_type": "code",
      "metadata": {
        "id": "jTxJPKxLglPI"
      },
      "source": [
        ""
      ],
      "execution_count": null,
      "outputs": []
    },
    {
      "cell_type": "code",
      "metadata": {
        "id": "b-jm0zI_glRd",
        "outputId": "e748e23c-5f03-4198-a559-d1f2f1e52479",
        "colab": {
          "base_uri": "https://localhost:8080/"
        }
      },
      "source": [
        "# -*- coding: utf-8 -*-\n",
        "import torch\n",
        "\n",
        "\n",
        "class MyReLU(torch.autograd.Function):\n",
        "    \"\"\"\n",
        "    torch.autograd.Function을 상속받아 사용자 정의 autograd Function을 구현하고,\n",
        "    Tensor 연산을 하는 순전파와 역전파 단계를 구현하겠습니다.\n",
        "    \"\"\"\n",
        "\n",
        "    @staticmethod\n",
        "    def forward(ctx, input):\n",
        "        \"\"\"\n",
        "        순전파 단계에서는 입력을 갖는 Tensor를 받아 출력을 갖는 Tensor를 반환합니다.\n",
        "        ctx는 컨텍스트 객체(context object)로 역전파 연산을 위한 정보 저장에\n",
        "        사용합니다. ctx.save_for_backward method를 사용하여 역전파 단계에서 사용할 어떠한\n",
        "        객체도 저장(cache)해 둘 수 있습니다.\n",
        "        \"\"\"\n",
        "        ctx.save_for_backward(input)\n",
        "        return input.clamp(min=0)\n",
        "\n",
        "    @staticmethod\n",
        "    def backward(ctx, grad_output):\n",
        "        \"\"\"\n",
        "        역전파 단계에서는 출력에 대한 손실의 변화도를 갖는 Tensor를 받고, 입력에\n",
        "        대한 손실의 변화도를 계산합니다.\n",
        "        \"\"\"\n",
        "        input, = ctx.saved_tensors\n",
        "        grad_input = grad_output.clone()\n",
        "        grad_input[input < 0] = 0\n",
        "        return grad_input\n",
        "\n",
        "\n",
        "dtype = torch.float\n",
        "device = torch.device(\"cpu\")\n",
        "# device = torch.device(\"cuda:0\") # GPU에서 실행하려면 이 주석을 제거하세요.\n",
        "\n",
        "# N은 배치 크기이며, D_in은 입력의 차원입니다;\n",
        "# H는 은닉층의 차원이며, D_out은 출력 차원입니다.\n",
        "N, D_in, H, D_out = 64, 1000, 100, 10\n",
        "\n",
        "# 입력과 출력을 저장하기 위해 무작위 값을 갖는 Tensor를 생성합니다.\n",
        "x = torch.randn(N, D_in, device=device, dtype=dtype)\n",
        "y = torch.randn(N, D_out, device=device, dtype=dtype)\n",
        "\n",
        "# 가중치를 저장하기 위해 무작위 값을 갖는 Tensor를 생성합니다.\n",
        "w1 = torch.randn(D_in, H, device=device, dtype=dtype, requires_grad=True)\n",
        "w2 = torch.randn(H, D_out, device=device, dtype=dtype, requires_grad=True)\n",
        "\n",
        "learning_rate = 1e-6\n",
        "for t in range(500):\n",
        "    # 사용자 정의 Function을 적용하기 위해 Function.apply 메소드를 사용합니다.\n",
        "    # 여기에 'relu'라는 이름을 붙였습니다.\n",
        "    relu = MyReLU.apply\n",
        "\n",
        "    # 순전파 단계: Tensor 연산을 사용하여 예상되는 y 값을 계산합니다;\n",
        "    # 사용자 정의 autograd 연산을 사용하여 ReLU를 계산합니다.\n",
        "    y_pred = relu(x.mm(w1)).mm(w2)\n",
        "\n",
        "    # 손실을 계산하고 출력합니다.\n",
        "    loss = (y_pred - y).pow(2).sum()\n",
        "    if t % 100 == 99:\n",
        "        print(t, loss.item())\n",
        "\n",
        "    # autograde를 사용하여 역전파 단계를 계산합니다.\n",
        "    loss.backward()\n",
        "\n",
        "    # 경사하강법(gradient descent)을 사용하여 가중치를 갱신합니다.\n",
        "    with torch.no_grad():\n",
        "        w1 -= learning_rate * w1.grad\n",
        "        w2 -= learning_rate * w2.grad\n",
        "\n",
        "        # 가중치 갱신 후에는 수동으로 변화도를 0으로 만듭니다.\n",
        "        w1.grad.zero_()\n",
        "        w2.grad.zero_()"
      ],
      "execution_count": 18,
      "outputs": [
        {
          "output_type": "stream",
          "text": [
            "99 266.30615234375\n",
            "199 0.9334475994110107\n",
            "299 0.005431541241705418\n",
            "399 0.00013908999972045422\n",
            "499 2.702128404052928e-05\n"
          ],
          "name": "stdout"
        }
      ]
    },
    {
      "cell_type": "markdown",
      "metadata": {
        "id": "HKgXtCRpoxoI"
      },
      "source": [
        "## nn 모듈"
      ]
    },
    {
      "cell_type": "code",
      "metadata": {
        "id": "IWL2UQ7PoyS-",
        "outputId": "bbcd4100-0964-466e-c89b-a431e064ead9",
        "colab": {
          "base_uri": "https://localhost:8080/"
        }
      },
      "source": [
        "# -*- coding: utf-8 -*-\n",
        "import torch\n",
        "\n",
        "# N은 배치 크기이며, D_in은 입력의 차원입니다;\n",
        "# H는 은닉층의 차원이며, D_out은 출력 차원입니다.\n",
        "N, D_in, H, D_out = 64, 1000, 100, 10\n",
        "\n",
        "# 입력과 출력을 저장하기 위해 무작위 값을 갖는 Tensor를 생성합니다.\n",
        "x = torch.randn(N, D_in)\n",
        "y = torch.randn(N, D_out)\n",
        "\n",
        "# nn 패키지를 사용하여 모델을 순차적 계층(sequence of layers)으로 정의합니다.\n",
        "# nn.Sequential은 다른 Module들을 포함하는 Module로, 그 Module들을 순차적으로\n",
        "# 적용하여 출력을 생성합니다. 각각의 Linear Module은 선형 함수를 사용하여\n",
        "# 입력으로부터 출력을 계산하고, 내부 Tensor에 가중치와 편향을 저장합니다.\n",
        "model = torch.nn.Sequential(\n",
        "    torch.nn.Linear(D_in, H),\n",
        "    torch.nn.ReLU(),\n",
        "    torch.nn.Linear(H, D_out),\n",
        ")\n",
        "\n",
        "# 또한 nn 패키지에는 널리 사용하는 손실 함수들에 대한 정의도 포함하고 있습니다;\n",
        "# 여기에서는 평균 제곱 오차(MSE; Mean Squared Error)를 손실 함수로 사용하겠습니다.\n",
        "loss_fn = torch.nn.MSELoss(reduction='sum')\n",
        "\n",
        "learning_rate = 1e-4\n",
        "for t in range(500):\n",
        "    # 순전파 단계: 모델에 x를 전달하여 예상되는 y 값을 계산합니다. Module 객체는\n",
        "    # __call__ 연산자를 덮어써(override) 함수처럼 호출할 수 있게 합니다.\n",
        "    # 이렇게 함으로써 입력 데이터의 Tensor를 Module에 전달하여 출력 데이터의\n",
        "    # Tensor를 생성합니다.\n",
        "    y_pred = model(x)\n",
        "\n",
        "    # 손실을 계산하고 출력합니다. 예측한 y와 정답인 y를 갖는 Tensor들을 전달하고,\n",
        "    # 손실 함수는 손실 값을 갖는 Tensor를 반환합니다.\n",
        "    loss = loss_fn(y_pred, y)\n",
        "    if t % 100 == 99:\n",
        "        print(t, loss.item())\n",
        "\n",
        "    # 역전파 단계를 실행하기 전에 변화도를 0으로 만듭니다.\n",
        "    model.zero_grad()\n",
        "\n",
        "    # 역전파 단계: 모델의 학습 가능한 모든 매개변수에 대해 손실의 변화도를\n",
        "    # 계산합니다. 내부적으로 각 Module의 매개변수는 requires_grad=True 일 때\n",
        "    # Tensor 내에 저장되므로, 이 호출은 모든 모델의 모든 학습 가능한 매개변수의\n",
        "    # 변화도를 계산하게 됩니다.\n",
        "    loss.backward()\n",
        "\n",
        "    # 경사하강법(gradient descent)를 사용하여 가중치를 갱신합니다. 각 매개변수는\n",
        "    # Tensor이므로 이전에 했던 것과 같이 변화도에 접근할 수 있습니다.\n",
        "    with torch.no_grad():\n",
        "        for param in model.parameters():\n",
        "            param -= learning_rate * param.grad"
      ],
      "execution_count": 19,
      "outputs": [
        {
          "output_type": "stream",
          "text": [
            "99 2.2630794048309326\n",
            "199 0.03319545090198517\n",
            "299 0.0010839522583410144\n",
            "399 4.87896213599015e-05\n",
            "499 2.6365660232841037e-06\n"
          ],
          "name": "stdout"
        }
      ]
    },
    {
      "cell_type": "markdown",
      "metadata": {
        "id": "_WEK59WHp246"
      },
      "source": [
        "## optim"
      ]
    },
    {
      "cell_type": "code",
      "metadata": {
        "id": "KF9Y9MxUoyVJ",
        "outputId": "5197c30f-c791-449f-a67f-37e7049faa5d",
        "colab": {
          "base_uri": "https://localhost:8080/"
        }
      },
      "source": [
        "# -*- coding: utf-8 -*-\n",
        "import torch\n",
        "\n",
        "# N은 배치 크기이며, D_in은 입력의 차원입니다;\n",
        "# H는 은닉층의 차원이며, D_out은 출력 차원입니다.\n",
        "N, D_in, H, D_out = 64, 1000, 100, 10\n",
        "\n",
        "# 입력과 출력을 저장하기 위해 무작위 값을 갖는 Tensor를 생성합니다.\n",
        "x = torch.randn(N, D_in)\n",
        "y = torch.randn(N, D_out)\n",
        "\n",
        "# nn 패키지를 사용하여 모델과 손실 함수를 정의합니다.\n",
        "model = torch.nn.Sequential(\n",
        "    torch.nn.Linear(D_in, H),\n",
        "    torch.nn.ReLU(),\n",
        "    torch.nn.Linear(H, D_out),\n",
        ")\n",
        "loss_fn = torch.nn.MSELoss(reduction='sum')\n",
        "\n",
        "# optim 패키지를 사용하여 모델의 가중치를 갱신할 Optimizer를 정의합니다.\n",
        "# 여기서는 Adam을 사용하겠습니다; optim 패키지는 다른 다양한 최적화 알고리즘을\n",
        "# 포함하고 있습니다. Adam 생성자의 첫번째 인자는 어떤 Tensor가 갱신되어야 하는지\n",
        "# 알려줍니다.\n",
        "learning_rate = 1e-4\n",
        "optimizer = torch.optim.Adam(model.parameters(), lr=learning_rate)\n",
        "for t in range(500):\n",
        "    # 순전파 단계: 모델에 x를 전달하여 예상되는 y 값을 계산합니다.\n",
        "    y_pred = model(x)\n",
        "\n",
        "    # 손실을 계산하고 출력합니다.\n",
        "    loss = loss_fn(y_pred, y)\n",
        "    if t % 100 == 99:\n",
        "        print(t, loss.item())\n",
        "\n",
        "    # 역전파 단계 전에, Optimizer 객체를 사용하여 (모델의 학습 가능한 가중치인)\n",
        "    # 갱신할 변수들에 대한 모든 변화도를 0으로 만듭니다. 이렇게 하는 이유는\n",
        "    # 기본적으로 .backward()를 호출할 때마다 변화도가 버퍼(buffer)에 (덮어쓰지 않고)\n",
        "    # 누적되기 때문입니다. 더 자세한 내용은 torch.autograd.backward에 대한 문서를\n",
        "    # 참조하세요.\n",
        "    optimizer.zero_grad()\n",
        "\n",
        "    # 역전파 단계: 모델의 매개변수에 대한 손실의 변화도를 계산합니다.\n",
        "    loss.backward()\n",
        "\n",
        "    # Optimizer의 step 함수를 호출하면 매개변수가 갱신됩니다.\n",
        "    optimizer.step()"
      ],
      "execution_count": 20,
      "outputs": [
        {
          "output_type": "stream",
          "text": [
            "99 50.1908073425293\n",
            "199 0.5524916648864746\n",
            "299 0.00047203581198118627\n",
            "399 4.720259028090368e-07\n",
            "499 1.042129271766612e-09\n"
          ],
          "name": "stdout"
        }
      ]
    },
    {
      "cell_type": "markdown",
      "metadata": {
        "id": "iWd_-gNsqbSs"
      },
      "source": [
        "## nn.Module"
      ]
    },
    {
      "cell_type": "code",
      "metadata": {
        "id": "tTqgXbEyqBJz",
        "outputId": "e298013e-9237-465d-db3f-b0b2a6445ba6",
        "colab": {
          "base_uri": "https://localhost:8080/"
        }
      },
      "source": [
        "# -*- coding: utf-8 -*-\n",
        "import torch\n",
        "\n",
        "\n",
        "class TwoLayerNet(torch.nn.Module):\n",
        "    def __init__(self, D_in, H, D_out):\n",
        "        \"\"\"\n",
        "        생성자에서 2개의 nn.Linear 모듈을 생성하고, 멤버 변수로 지정합니다.\n",
        "        \"\"\"\n",
        "        super(TwoLayerNet, self).__init__()\n",
        "        self.linear1 = torch.nn.Linear(D_in, H)\n",
        "        self.linear2 = torch.nn.Linear(H, D_out)\n",
        "\n",
        "    def forward(self, x):\n",
        "        \"\"\"\n",
        "        순전파 함수에서는 입력 데이터의 Tensor를 받고 출력 데이터의 Tensor를\n",
        "        반환해야 합니다. Tensor 상의 임의의 연산자뿐만 아니라 생성자에서 정의한\n",
        "        Module도 사용할 수 있습니다.\n",
        "        \"\"\"\n",
        "        h_relu = self.linear1(x).clamp(min=0)\n",
        "        y_pred = self.linear2(h_relu)\n",
        "        return y_pred\n",
        "\n",
        "\n",
        "# N은 배치 크기이며, D_in은 입력의 차원입니다;\n",
        "# H는 은닉층의 차원이며, D_out은 출력 차원입니다.\n",
        "N, D_in, H, D_out = 64, 1000, 100, 10\n",
        "\n",
        "# 입력과 출력을 저장하기 위해 무작위 값을 갖는 Tensor를 생성합니다.\n",
        "x = torch.randn(N, D_in)\n",
        "y = torch.randn(N, D_out)\n",
        "\n",
        "# 앞에서 정의한 클래스를 생성하여 모델을 구성합니다.\n",
        "model = TwoLayerNet(D_in, H, D_out)\n",
        "\n",
        "# 손실 함수와 Optimizer를 만듭니다. SGD 생성자에 model.parameters()를 호출하면\n",
        "# 모델의 멤버인 2개의 nn.Linear 모듈의 학습 가능한 매개변수들이 포함됩니다.\n",
        "criterion = torch.nn.MSELoss(reduction='sum')\n",
        "optimizer = torch.optim.SGD(model.parameters(), lr=1e-4)\n",
        "for t in range(500):\n",
        "    # 순전파 단계: 모델에 x를 전달하여 예상되는 y 값을 계산합니다.\n",
        "    y_pred = model(x)\n",
        "\n",
        "    # 손실을 계산하고 출력합니다.\n",
        "    loss = criterion(y_pred, y)\n",
        "    if t % 100 == 99:\n",
        "        print(t, loss.item())\n",
        "\n",
        "    # 변화도를 0으로 만들고, 역전파 단계를 수행하고, 가중치를 갱신합니다.\n",
        "    optimizer.zero_grad()\n",
        "    loss.backward()\n",
        "    optimizer.step()"
      ],
      "execution_count": 21,
      "outputs": [
        {
          "output_type": "stream",
          "text": [
            "99 1.8880754709243774\n",
            "199 0.04948833957314491\n",
            "299 0.003564582671970129\n",
            "399 0.00037491871626116335\n",
            "499 4.367174915387295e-05\n"
          ],
          "name": "stdout"
        }
      ]
    },
    {
      "cell_type": "markdown",
      "metadata": {
        "id": "PU6700BWrsKu"
      },
      "source": [
        "## control flow, weight sharing"
      ]
    },
    {
      "cell_type": "code",
      "metadata": {
        "id": "7SGpRcRurkkk",
        "outputId": "11de3ffc-856c-46bd-a76b-03d7ce2458c4",
        "colab": {
          "base_uri": "https://localhost:8080/"
        }
      },
      "source": [
        "# -*- coding: utf-8 -*-\n",
        "import random\n",
        "import torch\n",
        "\n",
        "\n",
        "class DynamicNet(torch.nn.Module):\n",
        "    def __init__(self, D_in, H, D_out):\n",
        "        \"\"\"\n",
        "        생성자에서 순전파 단계에서 사용할 3개의 nn.Linear 인스턴스를 생성합니다.\n",
        "        \"\"\"\n",
        "        super(DynamicNet, self).__init__()\n",
        "        self.input_linear = torch.nn.Linear(D_in, H)\n",
        "        self.middle_linear = torch.nn.Linear(H, H)\n",
        "        self.output_linear = torch.nn.Linear(H, D_out)\n",
        "\n",
        "    def forward(self, x):\n",
        "        \"\"\"\n",
        "        모델의 순전파 단계에서, 무작위로 0, 1, 2 또는 3 중에 하나를 선택하고\n",
        "        은닉층을 계산하기 위해 여러번 사용한 middle_linear Module을 재사용합니다.\n",
        "\n",
        "        각 순전파 단계는 동적 연산 그래프를 구성하기 때문에, 모델의 순전파 단계를\n",
        "        정의할 때 반복문이나 조건문과 같은 일반적인 Python 제어 흐름 연산자를 사용할\n",
        "        수 있습니다.\n",
        "\n",
        "        여기에서 연산 그래프를 정의할 때 동일 Module을 여러번 재사용하는 것이\n",
        "        완벽히 안전하다는 것을 알 수 있습니다. 이것이 각 Module을 한 번씩만 사용할\n",
        "        수 있었던 Lua Torch보다 크게 개선된 부분입니다.\n",
        "        \"\"\"\n",
        "        h_relu = self.input_linear(x).clamp(min=0)\n",
        "        for _ in range(random.randint(0, 3)):\n",
        "            h_relu = self.middle_linear(h_relu).clamp(min=0)\n",
        "        y_pred = self.output_linear(h_relu)\n",
        "        return y_pred\n",
        "\n",
        "\n",
        "# N은 배치 크기이며, D_in은 입력의 차원입니다;\n",
        "# H는 은닉층의 차원이며, D_out은 출력 차원입니다.\n",
        "N, D_in, H, D_out = 64, 1000, 100, 10\n",
        "\n",
        "# 입력과 출력을 저장하기 위해 무작위 값을 갖는 Tensor를 생성합니다.\n",
        "x = torch.randn(N, D_in)\n",
        "y = torch.randn(N, D_out)\n",
        "\n",
        "# 앞서 정의한 클래스를 생성(instantiating)하여 모델을 구성합니다.\n",
        "model = DynamicNet(D_in, H, D_out)\n",
        "\n",
        "# 손실함수와 Optimizer를 만듭니다. 이 이상한 모델을 순수한 확률적 경사 하강법\n",
        "# (stochastic gradient decent)으로 학습하는 것은 어려우므로, 모멘텀(momentum)을\n",
        "# 사용합니다.\n",
        "criterion = torch.nn.MSELoss(reduction='sum')\n",
        "optimizer = torch.optim.SGD(model.parameters(), lr=1e-4, momentum=0.9)\n",
        "for t in range(500):\n",
        "    # 순전파 단계: 모델에 x를 전달하여 예상되는 y 값을 계산합니다.\n",
        "    y_pred = model(x)\n",
        "\n",
        "    # 손실을 계산하고 출력합니다.\n",
        "    loss = criterion(y_pred, y)\n",
        "    if t % 100 == 99:\n",
        "        print(t, loss.item())\n",
        "\n",
        "    # 변화도를 0으로 만들고, 역전파 단계를 수행하고, 가중치를 갱신합니다.\n",
        "    optimizer.zero_grad()\n",
        "    loss.backward()\n",
        "    optimizer.step()"
      ],
      "execution_count": 22,
      "outputs": [
        {
          "output_type": "stream",
          "text": [
            "99 28.719079971313477\n",
            "199 6.081575870513916\n",
            "299 1.2681982517242432\n",
            "399 0.6405354738235474\n",
            "499 0.448000431060791\n"
          ],
          "name": "stdout"
        }
      ]
    },
    {
      "cell_type": "code",
      "metadata": {
        "id": "xqmZQtLCrrun"
      },
      "source": [
        ""
      ],
      "execution_count": null,
      "outputs": []
    },
    {
      "cell_type": "code",
      "metadata": {
        "id": "hprjqPdDrrw4"
      },
      "source": [
        ""
      ],
      "execution_count": null,
      "outputs": []
    }
  ]
}